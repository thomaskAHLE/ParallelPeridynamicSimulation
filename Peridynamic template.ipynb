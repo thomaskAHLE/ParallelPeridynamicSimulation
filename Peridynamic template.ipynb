{
 "cells": [
  {
   "cell_type": "markdown",
   "metadata": {},
   "source": [
    "# Course project"
   ]
  },
  {
   "cell_type": "markdown",
   "metadata": {},
   "source": [
    "## Task 1: Data structures\n",
    "\n",
    "1. Implement a struct/class to store three-dimensional vectors\n",
    "1. Overload the operators and functions you need\n",
    "1. Add all the std::vector objects you need to store the simulation data\n",
    "1. Add all other variables you need to control the simulation"
   ]
  },
  {
   "cell_type": "code",
   "execution_count": 4,
   "metadata": {},
   "outputs": [
    {
     "name": "stderr",
     "output_type": "stream",
     "text": [
      "In file included from input_line_6:3:\n",
      "In file included from /usr/lib/gcc/x86_64-redhat-linux/9/../../../../include/c++/9/iomanip:43:\n",
      "In file included from /usr/lib/gcc/x86_64-redhat-linux/9/../../../../include/c++/9/locale:41:\n",
      "In file included from /usr/lib/gcc/x86_64-redhat-linux/9/../../../../include/c++/9/bits/locale_facets_nonio.h:39:\n",
      "/usr/lib/gcc/x86_64-redhat-linux/9/../../../../include/c++/9/ctime:59:1: error: namespaces can only be defined in global or namespace scope\n",
      "{\n",
      "^\n",
      "In file included from input_line_6:3:\n",
      "In file included from /usr/lib/gcc/x86_64-redhat-linux/9/../../../../include/c++/9/iomanip:43:\n",
      "In file included from /usr/lib/gcc/x86_64-redhat-linux/9/../../../../include/c++/9/locale:41:\n",
      "/usr/lib/gcc/x86_64-redhat-linux/9/../../../../include/c++/9/bits/locale_facets_nonio.h:42:1: error: namespaces can only be defined in global or namespace scope\n",
      "{\n",
      "^\n",
      "In file included from input_line_6:3:\n",
      "In file included from /usr/lib/gcc/x86_64-redhat-linux/9/../../../../include/c++/9/iomanip:43:\n",
      "In file included from /usr/lib/gcc/x86_64-redhat-linux/9/../../../../include/c++/9/locale:41:\n",
      "In file included from /usr/lib/gcc/x86_64-redhat-linux/9/../../../../include/c++/9/bits/locale_facets_nonio.h:346:\n",
      "/usr/lib/gcc/x86_64-redhat-linux/9/../../../../include/c++/9/x86_64-redhat-linux/bits/time_members.h:38:1: error: namespaces can only be defined in global or namespace scope\n",
      "{\n",
      "^\n",
      "In file included from input_line_6:3:\n",
      "In file included from /usr/lib/gcc/x86_64-redhat-linux/9/../../../../include/c++/9/iomanip:43:\n",
      "In file included from /usr/lib/gcc/x86_64-redhat-linux/9/../../../../include/c++/9/locale:41:\n",
      "/usr/lib/gcc/x86_64-redhat-linux/9/../../../../include/c++/9/bits/locale_facets_nonio.h:349:1: error: namespaces can only be defined in global or namespace scope\n",
      "{\n",
      "^\n",
      "In file included from input_line_6:3:\n",
      "In file included from /usr/lib/gcc/x86_64-redhat-linux/9/../../../../include/c++/9/iomanip:43:\n",
      "In file included from /usr/lib/gcc/x86_64-redhat-linux/9/../../../../include/c++/9/locale:41:\n",
      "In file included from /usr/lib/gcc/x86_64-redhat-linux/9/../../../../include/c++/9/bits/locale_facets_nonio.h:2010:\n",
      "In file included from /usr/lib/gcc/x86_64-redhat-linux/9/../../../../include/c++/9/x86_64-redhat-linux/bits/messages_members.h:36:\n",
      "/usr/include/libintl.h:34:1: error: expected unqualified-id\n",
      "__BEGIN_DECLS\n",
      "^\n",
      "/usr/include/sys/cdefs.h:114:31: note: expanded from macro '__BEGIN_DECLS'\n",
      "# define __BEGIN_DECLS  extern \"C\" {\n",
      "                               ^\n",
      "In file included from input_line_6:3:\n",
      "In file included from /usr/lib/gcc/x86_64-redhat-linux/9/../../../../include/c++/9/iomanip:43:\n",
      "In file included from /usr/lib/gcc/x86_64-redhat-linux/9/../../../../include/c++/9/locale:41:\n",
      "In file included from /usr/lib/gcc/x86_64-redhat-linux/9/../../../../include/c++/9/bits/locale_facets_nonio.h:2010:\n",
      "/usr/lib/gcc/x86_64-redhat-linux/9/../../../../include/c++/9/x86_64-redhat-linux/bits/messages_members.h:39:1: error: namespaces can only be defined in global or namespace scope\n",
      "{\n",
      "^\n",
      "In file included from input_line_6:3:\n",
      "In file included from /usr/lib/gcc/x86_64-redhat-linux/9/../../../../include/c++/9/iomanip:43:\n",
      "In file included from /usr/lib/gcc/x86_64-redhat-linux/9/../../../../include/c++/9/locale:41:\n",
      "In file included from /usr/lib/gcc/x86_64-redhat-linux/9/../../../../include/c++/9/bits/locale_facets_nonio.h:2013:\n",
      "/usr/lib/gcc/x86_64-redhat-linux/9/../../../../include/c++/9/bits/codecvt.h:42:1: error: namespaces can only be defined in global or namespace scope\n",
      "{\n",
      "^\n",
      "In file included from input_line_6:3:\n",
      "In file included from /usr/lib/gcc/x86_64-redhat-linux/9/../../../../include/c++/9/iomanip:43:\n",
      "In file included from /usr/lib/gcc/x86_64-redhat-linux/9/../../../../include/c++/9/locale:41:\n",
      "In file included from /usr/lib/gcc/x86_64-redhat-linux/9/../../../../include/c++/9/bits/locale_facets_nonio.h:2015:\n",
      "/usr/lib/gcc/x86_64-redhat-linux/9/../../../../include/c++/9/bits/locale_facets_nonio.tcc:36:1: error: namespaces can only be defined in global or namespace scope\n",
      "{\n",
      "^\n",
      "In file included from input_line_6:3:\n",
      "In file included from /usr/lib/gcc/x86_64-redhat-linux/9/../../../../include/c++/9/iomanip:43:\n",
      "In file included from /usr/lib/gcc/x86_64-redhat-linux/9/../../../../include/c++/9/locale:43:\n",
      "In file included from /usr/lib/gcc/x86_64-redhat-linux/9/../../../../include/c++/9/bits/locale_conv.h:41:\n",
      "In file included from /usr/lib/gcc/x86_64-redhat-linux/9/../../../../include/c++/9/bits/unique_ptr.h:36:\n",
      "In file included from /usr/lib/gcc/x86_64-redhat-linux/9/../../../../include/c++/9/utility:69:\n",
      "/usr/lib/gcc/x86_64-redhat-linux/9/../../../../include/c++/9/bits/stl_relops.h:68:1: error: namespaces can only be defined in global or namespace scope\n",
      "{\n",
      "^\n",
      "In file included from input_line_6:3:\n",
      "In file included from /usr/lib/gcc/x86_64-redhat-linux/9/../../../../include/c++/9/iomanip:43:\n",
      "In file included from /usr/lib/gcc/x86_64-redhat-linux/9/../../../../include/c++/9/locale:43:\n",
      "In file included from /usr/lib/gcc/x86_64-redhat-linux/9/../../../../include/c++/9/bits/locale_conv.h:41:\n",
      "In file included from /usr/lib/gcc/x86_64-redhat-linux/9/../../../../include/c++/9/bits/unique_ptr.h:36:\n",
      "/usr/lib/gcc/x86_64-redhat-linux/9/../../../../include/c++/9/utility:79:1: error: namespaces can only be defined in global or namespace scope\n",
      "{\n",
      "^\n",
      "In file included from input_line_6:3:\n",
      "In file included from /usr/lib/gcc/x86_64-redhat-linux/9/../../../../include/c++/9/iomanip:43:\n",
      "In file included from /usr/lib/gcc/x86_64-redhat-linux/9/../../../../include/c++/9/locale:43:\n",
      "In file included from /usr/lib/gcc/x86_64-redhat-linux/9/../../../../include/c++/9/bits/locale_conv.h:41:\n",
      "In file included from /usr/lib/gcc/x86_64-redhat-linux/9/../../../../include/c++/9/bits/unique_ptr.h:37:\n",
      "In file included from /usr/lib/gcc/x86_64-redhat-linux/9/../../../../include/c++/9/tuple:39:\n",
      "/usr/lib/gcc/x86_64-redhat-linux/9/../../../../include/c++/9/array:44:1: error: namespaces can only be defined in global or namespace scope\n",
      "{\n",
      "^\n",
      "/usr/lib/gcc/x86_64-redhat-linux/9/../../../../include/c++/9/array:343:1: error: namespaces can only be defined in global or namespace scope\n",
      "{\n",
      "^\n",
      "In file included from input_line_6:3:\n",
      "In file included from /usr/lib/gcc/x86_64-redhat-linux/9/../../../../include/c++/9/iomanip:43:\n",
      "In file included from /usr/lib/gcc/x86_64-redhat-linux/9/../../../../include/c++/9/locale:43:\n",
      "In file included from /usr/lib/gcc/x86_64-redhat-linux/9/../../../../include/c++/9/bits/locale_conv.h:41:\n",
      "In file included from /usr/lib/gcc/x86_64-redhat-linux/9/../../../../include/c++/9/bits/unique_ptr.h:37:\n",
      "In file included from /usr/lib/gcc/x86_64-redhat-linux/9/../../../../include/c++/9/tuple:40:\n",
      "/usr/lib/gcc/x86_64-redhat-linux/9/../../../../include/c++/9/bits/uses_allocator.h:36:1: error: namespaces can only be defined in global or namespace scope\n",
      "{\n",
      "^\n",
      "In file included from input_line_6:3:\n",
      "In file included from /usr/lib/gcc/x86_64-redhat-linux/9/../../../../include/c++/9/iomanip:43:\n",
      "In file included from /usr/lib/gcc/x86_64-redhat-linux/9/../../../../include/c++/9/locale:43:\n",
      "In file included from /usr/lib/gcc/x86_64-redhat-linux/9/../../../../include/c++/9/bits/locale_conv.h:41:\n",
      "In file included from /usr/lib/gcc/x86_64-redhat-linux/9/../../../../include/c++/9/bits/unique_ptr.h:37:\n",
      "In file included from /usr/lib/gcc/x86_64-redhat-linux/9/../../../../include/c++/9/tuple:41:\n",
      "/usr/lib/gcc/x86_64-redhat-linux/9/../../../../include/c++/9/bits/invoke.h:42:1: error: namespaces can only be defined in global or namespace scope\n",
      "{\n",
      "^\n",
      "In file included from input_line_6:3:\n",
      "In file included from /usr/lib/gcc/x86_64-redhat-linux/9/../../../../include/c++/9/iomanip:43:\n",
      "In file included from /usr/lib/gcc/x86_64-redhat-linux/9/../../../../include/c++/9/locale:43:\n",
      "In file included from /usr/lib/gcc/x86_64-redhat-linux/9/../../../../include/c++/9/bits/locale_conv.h:41:\n",
      "In file included from /usr/lib/gcc/x86_64-redhat-linux/9/../../../../include/c++/9/bits/unique_ptr.h:37:\n",
      "/usr/lib/gcc/x86_64-redhat-linux/9/../../../../include/c++/9/tuple:44:1: error: namespaces can only be defined in global or namespace scope\n",
      "{\n",
      "^\n",
      "In file included from input_line_6:3:\n"
     ]
    },
    {
     "name": "stderr",
     "output_type": "stream",
     "text": [
      "In file included from /usr/lib/gcc/x86_64-redhat-linux/9/../../../../include/c++/9/iomanip:43:\n",
      "In file included from /usr/lib/gcc/x86_64-redhat-linux/9/../../../../include/c++/9/locale:43:\n",
      "In file included from /usr/lib/gcc/x86_64-redhat-linux/9/../../../../include/c++/9/bits/locale_conv.h:41:\n",
      "/usr/lib/gcc/x86_64-redhat-linux/9/../../../../include/c++/9/bits/unique_ptr.h:42:1: error: namespaces can only be defined in global or namespace scope\n",
      "{\n",
      "^\n",
      "In file included from input_line_6:3:\n",
      "In file included from /usr/lib/gcc/x86_64-redhat-linux/9/../../../../include/c++/9/iomanip:43:\n",
      "In file included from /usr/lib/gcc/x86_64-redhat-linux/9/../../../../include/c++/9/locale:43:\n",
      "/usr/lib/gcc/x86_64-redhat-linux/9/../../../../include/c++/9/bits/locale_conv.h:44:1: error: namespaces can only be defined in global or namespace scope\n",
      "{\n",
      "^\n",
      "In file included from input_line_6:3:\n",
      "In file included from /usr/lib/gcc/x86_64-redhat-linux/9/../../../../include/c++/9/iomanip:45:\n",
      "In file included from /usr/lib/gcc/x86_64-redhat-linux/9/../../../../include/c++/9/bits/quoted_string.h:38:\n",
      "/usr/lib/gcc/x86_64-redhat-linux/9/../../../../include/c++/9/sstream:42:1: error: namespaces can only be defined in global or namespace scope\n",
      "{\n",
      "^\n",
      "In file included from input_line_6:3:\n",
      "In file included from /usr/lib/gcc/x86_64-redhat-linux/9/../../../../include/c++/9/iomanip:45:\n",
      "In file included from /usr/lib/gcc/x86_64-redhat-linux/9/../../../../include/c++/9/bits/quoted_string.h:38:\n",
      "In file included from /usr/lib/gcc/x86_64-redhat-linux/9/../../../../include/c++/9/sstream:879:\n",
      "/usr/lib/gcc/x86_64-redhat-linux/9/../../../../include/c++/9/bits/sstream.tcc:40:1: error: namespaces can only be defined in global or namespace scope\n",
      "{\n",
      "^\n",
      "fatal error: too many errors emitted, stopping now [-ferror-limit=]\n"
     ]
    },
    {
     "ename": "ename",
     "evalue": "evalue",
     "output_type": "error",
     "traceback": []
    }
   ],
   "source": [
    "#include <iostream>\n",
    "#include <iomanip>\n",
    "#include <cmath>\n",
    "#include <utility>\n",
    "#include <vector>\n",
    "#include <fstream>\n",
    "#include <exception>\n",
    "#include <algorithm>\n",
    "static const double pi = 3.1415926535897;"
   ]
  },
  {
   "cell_type": "code",
   "execution_count": 2,
   "metadata": {},
   "outputs": [
    {
     "name": "stderr",
     "output_type": "stream",
     "text": [
      "input_line_4:69:1: error: function definition is not allowed here\n",
      "{\n",
      "^\n"
     ]
    },
    {
     "ename": "ename",
     "evalue": "evalue",
     "output_type": "error",
     "traceback": []
    }
   ],
   "source": [
    "struct vec_3\n",
    "{\n",
    "    double x, y, z;\n",
    "\n",
    "    //constructors\n",
    "    vec_3() noexcept: x(0.0), y(0.0), z(0.0){}\n",
    "    vec_3(double x, double y, double z ) noexcept : x(x), y(y), z(z){}\n",
    "    vec_3(const vec_3 & other) noexcept : x(other.x), y(other.y), z(other.z){}\n",
    "    vec_3(vec_3 && other) noexcept = default;\n",
    "   \n",
    "    double & operator [] (size_t idx)\n",
    "    {\n",
    "\tif( 2 < idx)\n",
    "\t{      \n",
    "\t\tthrow std::out_of_range(\"Accessing element not in vec_3\");\n",
    "\t}\n",
    "    \treturn idx == 0 ? x : (idx == 1 ? y : z);\n",
    "    }\n",
    "\n",
    "    const double & operator [](size_t idx) const\n",
    "    {\n",
    "    \tif( 2 < idx)\n",
    "\t{      \n",
    "\t\tthrow std::out_of_range(\"Accessing element not in vec_3\");\n",
    "\t}\n",
    "\n",
    "    \treturn idx == 0 ? x : (idx == 1 ? y : z);\n",
    "    }\n",
    "\n",
    "    // operator overloads\n",
    "    vec_3 & operator = (const vec_3 & other) noexcept = default;\n",
    "\n",
    "    vec_3 & operator = (vec_3 && other) noexcept = default;\n",
    "\n",
    "    vec_3 & operator += (const vec_3 & rhs) noexcept\n",
    "    {\n",
    "        x += rhs.x;\n",
    "        y += rhs.y;\n",
    "        z += rhs.z;\n",
    "        return *this;\n",
    "    }\n",
    "\n",
    "    vec_3 & operator -= (const vec_3 & rhs) noexcept\n",
    "    {\n",
    "        x -= rhs.x;\n",
    "        y -= rhs.y;\n",
    "        z -= rhs.z;\n",
    "        return *this;\n",
    "    }\n",
    "\n",
    "    vec_3 & operator *=(const vec_3 & rhs) noexcept\n",
    "    {\n",
    "        x = y * rhs.z - z * rhs.y;\n",
    "        y = z * rhs.x - x * rhs.z;\n",
    "        z = x * rhs.y - y * rhs.y;\n",
    "        return *this;\n",
    "    }\n",
    "\n",
    "    vec_3 &  operator *=(double rhs) noexcept\n",
    "    {\n",
    "        x *= rhs;\n",
    "        y *= rhs;\n",
    "        z *= rhs;\n",
    "        return *this;\n",
    "    }\n",
    "\n",
    "    friend vec_3 operator + (vec_3 lhs, const vec_3 & rhs) noexcept;\n",
    "    friend vec_3 operator - (vec_3 lhs, const vec_3 & rhs) noexcept;\n",
    "    friend vec_3 operator * (vec_3 lhs, const vec_3 & rhs) noexcept;\n",
    "    friend vec_3 operator * (vec_3 lhs, const double rhs) noexcept;\n",
    "    friend vec_3 operator * (const double lhs, vec_3  rhs) noexcept;\n",
    "    friend vec_3 operator / ( vec_3  lhs, const double rhs) noexcept;\n",
    "    friend vec_3 operator / (const  double lhs, vec_3  rhs) noexcept;\n",
    "    \n",
    "    friend bool operator == (const vec_3& lhs, const vec_3 & rhs) noexcept;\n",
    "    friend bool operator != (const vec_3& lhs, const vec_3 & rhs) noexcept;\n",
    "    friend std::ostream & operator << (std::ostream & out, const vec_3 & v) noexcept;\n",
    "    friend std::istream & operator >> (std::istream & in, const vec_3 &  v) noexcept;\n",
    "\n",
    "    //other mathematic functions\n",
    "    double norm() const noexcept\n",
    "    {\n",
    "        return std::sqrt(x*x + y*y + z*z);\n",
    "    }\n",
    "\n",
    "    friend double dot(const vec_3 & lhs, const vec_3 & rhs) noexcept;\n",
    "    friend double distance(const vec_3 & lhs, const vec_3 & rhs) noexcept;\n",
    "};\n",
    "\n",
    "extern \"C++\"\n",
    "vec_3 operator + (vec_3 lhs, const vec_3 & rhs) noexcept\n",
    "{\n",
    "    return lhs += rhs;\n",
    "}\n",
    "\n"
   ]
  },
  {
   "cell_type": "code",
   "execution_count": null,
   "metadata": {},
   "outputs": [],
   "source": []
  },
  {
   "cell_type": "code",
   "execution_count": null,
   "metadata": {},
   "outputs": [],
   "source": []
  },
  {
   "cell_type": "code",
   "execution_count": null,
   "metadata": {},
   "outputs": [],
   "source": []
  },
  {
   "cell_type": "markdown",
   "metadata": {},
   "source": [
    "## Generating the mesh \n",
    "Define three variables $lx$, $ly$, and $lz$ for the length of the 3D cube and mesh size $h$. Write a function which generates the positions $(x,y,z)$ and the volume $v$ of the nodes. Store the volume in a std::vector and the positions in the struct/class you previously implemented and add them to a std::vector. Use a unit cube with 500 no"
   ]
  },
  {
   "cell_type": "code",
   "execution_count": null,
   "metadata": {},
   "outputs": [],
   "source": []
  },
  {
   "cell_type": "markdown",
   "metadata": {},
   "source": [
    "## Reading the simulations parameters\n",
    "Read the attached file (config.dat) and read the material properties $(K,K_{Ic},\\varrho)$, the final time T, the time step with $t_n$, and the horizon $\\delta$ and store the information in variables."
   ]
  },
  {
   "cell_type": "code",
   "execution_count": null,
   "metadata": {},
   "outputs": [],
   "source": []
  },
  {
   "cell_type": "markdown",
   "metadata": {},
   "source": [
    "## Task 2: Neighboorsearch\n",
    "\n",
    "We need to find for each node $X_i$ the beighborhood $B_\\delta(X_i)$ such that $B_\\delta(X_i)=\\lbrace j | \\vert X_j - X_i \\leq \\delta \\rbrace$. Write a function which computes the neighborhoods and store the results in a std::vector. Note that your algorithm has not the be efficient and the complexity $\\mathcal{O}(n^2)$ is good enough."
   ]
  },
  {
   "cell_type": "code",
   "execution_count": null,
   "metadata": {},
   "outputs": [],
   "source": []
  },
  {
   "cell_type": "markdown",
   "metadata": {},
   "source": [
    "## Task 3: Material model\n",
    "1. Write a function which computes $c = \\frac{18K}{\\pi\\delta}$ and $s_c = \\frac{5}{12} \\sqrt{\\frac{K_{Ic}}{K^2\\delta}}$ from the parameters from claasical continnum mechanics\n",
    "1. Write a function which computes the bond stretch $s(t,x(t,X')-x(t,X),X'-X):= \\frac{\\vert\\vert x(t,X')-x(t,X))\\vert\\vert - \\vert\\vert X'-X\\vert\\vert}{\\vert\\vert X'-X\\vert\\vert}$ between the nodes $X_i$ and $X_j$.\n",
    "1. Write a function which computes the pair-wise force $f(t,x(t,X')-x(t,X),X'-X):=  c s(t,x(t,X')-x(t,X),X'-X) \\mu(t,x(t,X')-x(t,X),X'-X) \\frac{x(t,X')-x(t,X)}{\\Vert x(t,X')-x(t,X)\\Vert}$ between the nodes $X_i$ and $X_j$.\n",
    "1. Write a function which computes the damage of the node $X_i$ using $\\mu(t,x(t,X')-x(t,X),X'-X):= \n",
    " \\left\\{\n",
    " \\begin{aligned}\n",
    " & 1 \\quad s(t,x(t,X')-x(t,X),X'-X) < s_{c} \\\\\n",
    " & 0 \\quad \\text{otherwise}\n",
    "\\end{aligned}\n",
    " \\right.$\n"
   ]
  },
  {
   "cell_type": "code",
   "execution_count": null,
   "metadata": {},
   "outputs": [],
   "source": []
  },
  {
   "cell_type": "markdown",
   "metadata": {},
   "source": [
    "## Task 4: Compute the forces\n",
    "We need to compute the force at each node $X_i$ bu using the discrete peridynamic equation of motion $\\rho(X_i)a(t,X_i)=\\sum\\limits_{X_j\\in B_\\delta(X_i)} f\\left(t,x(t,X_j)-x(t,X_i), X_j-X_i\\right)d\\mathbf{V}_j + b(t,X_i)$. Write a function which computes the forces for all nodes."
   ]
  },
  {
   "cell_type": "code",
   "execution_count": null,
   "metadata": {},
   "outputs": [],
   "source": []
  },
  {
   "cell_type": "markdown",
   "metadata": {},
   "source": [
    "## Task 5: Update the velocities"
   ]
  },
  {
   "cell_type": "code",
   "execution_count": null,
   "metadata": {},
   "outputs": [],
   "source": []
  },
  {
   "cell_type": "markdown",
   "metadata": {},
   "source": [
    "## Task 6: Output\n",
    "\n",
    "Write a function which writes a comma separated file (csv) containing for each time step with the positions, the force, and the accelaration of each node per line."
   ]
  },
  {
   "cell_type": "code",
   "execution_count": null,
   "metadata": {},
   "outputs": [],
   "source": []
  },
  {
   "cell_type": "markdown",
   "metadata": {},
   "source": [
    "## Task 7: Simulation control\n",
    "\n",
    " Write the simulation control to compute the acceleration, velocity, and force of all nodes per time step. At the end of each time step write the CSV file."
   ]
  },
  {
   "cell_type": "code",
   "execution_count": null,
   "metadata": {},
   "outputs": [],
   "source": []
  },
  {
   "cell_type": "markdown",
   "metadata": {},
   "source": [
    "## Task 8: Parallel implementation\n",
    "1. Replace as many as posiible of the for loops with hpx::parallel for lops\n",
    "1. Use hpx::async and hpx::future to asynchronously do the computation and the output\n",
    "\n",
    "Note that you should implement the single threaded version of the code, vlaidate your results, and once you know that your code is working, you should start to make it parallel."
   ]
  }
 ],
 "metadata": {
  "kernelspec": {
   "display_name": "C++14",
   "language": "C++",
   "name": "cling-cpp14"
  },
  "language_info": {
   "codemirror_mode": "c++",
   "file_extension": ".c++",
   "mimetype": "text/x-c++src",
   "name": "c++"
  }
 },
 "nbformat": 4,
 "nbformat_minor": 2
}
