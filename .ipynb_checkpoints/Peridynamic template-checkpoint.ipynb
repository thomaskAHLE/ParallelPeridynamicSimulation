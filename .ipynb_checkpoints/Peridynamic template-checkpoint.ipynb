{
 "cells": [
  {
   "cell_type": "markdown",
   "metadata": {},
   "source": [
    "# Course project"
   ]
  },
  {
   "cell_type": "markdown",
   "metadata": {},
   "source": [
    "## Task 1: Data structures\n",
    "\n",
    "1. Implement a struct/class to store three-dimensional vectors\n",
    "1. Overload the operators and functions you need\n",
    "1. Add all the std::vector objects you need to store the simulation data\n",
    "1. Add all other variables you need to control the simulation"
   ]
  },
  {
   "cell_type": "code",
   "execution_count": null,
   "metadata": {},
   "outputs": [],
   "source": [
    "class vec_3\n",
    "{\n",
    "    doubl\n",
    "}"
   ]
  },
  {
   "cell_type": "markdown",
   "metadata": {},
   "source": [
    "## Generating the mesh \n",
    "Define three variables $lx$, $ly$, and $lz$ for the length of the 3D cube and mesh size $h$. Write a function which generates the positions $(x,y,z)$ and the volume $v$ of the nodes. Store the volume in a std::vector and the positions in the struct/class you previously implemented and add them to a std::vector. Use a unit cube with 500 no"
   ]
  },
  {
   "cell_type": "code",
   "execution_count": null,
   "metadata": {},
   "outputs": [],
   "source": []
  },
  {
   "cell_type": "markdown",
   "metadata": {},
   "source": [
    "## Reading the simulations parameters\n",
    "Read the attached file (config.dat) and read the material properties $(K,K_{Ic},\\varrho)$, the final time T, the time step with $t_n$, and the horizon $\\delta$ and store the information in variables."
   ]
  },
  {
   "cell_type": "code",
   "execution_count": null,
   "metadata": {},
   "outputs": [],
   "source": []
  },
  {
   "cell_type": "markdown",
   "metadata": {},
   "source": [
    "## Task 2: Neighboorsearch\n",
    "\n",
    "We need to find for each node $X_i$ the beighborhood $B_\\delta(X_i)$ such that $B_\\delta(X_i)=\\lbrace j | \\vert X_j - X_i \\leq \\delta \\rbrace$. Write a function which computes the neighborhoods and store the results in a std::vector. Note that your algorithm has not the be efficient and the complexity $\\mathcal{O}(n^2)$ is good enough."
   ]
  },
  {
   "cell_type": "code",
   "execution_count": null,
   "metadata": {},
   "outputs": [],
   "source": []
  },
  {
   "cell_type": "markdown",
   "metadata": {},
   "source": [
    "## Task 3: Material model\n",
    "1. Write a function which computes $c = \\frac{18K}{\\pi\\delta}$ and $s_c = \\frac{5}{12} \\sqrt{\\frac{K_{Ic}}{K^2\\delta}}$ from the parameters from claasical continnum mechanics\n",
    "1. Write a function which computes the bond stretch $s(t,x(t,X')-x(t,X),X'-X):= \\frac{\\vert\\vert x(t,X')-x(t,X))\\vert\\vert - \\vert\\vert X'-X\\vert\\vert}{\\vert\\vert X'-X\\vert\\vert}$ between the nodes $X_i$ and $X_j$.\n",
    "1. Write a function which computes the pair-wise force $f(t,x(t,X')-x(t,X),X'-X):=  c s(t,x(t,X')-x(t,X),X'-X) \\mu(t,x(t,X')-x(t,X),X'-X) \\frac{x(t,X')-x(t,X)}{\\Vert x(t,X')-x(t,X)\\Vert}$ between the nodes $X_i$ and $X_j$.\n",
    "1. Write a function which computes the damage of the node $X_i$ using $\\mu(t,x(t,X')-x(t,X),X'-X):= \n",
    " \\left\\{\n",
    " \\begin{aligned}\n",
    " & 1 \\quad s(t,x(t,X')-x(t,X),X'-X) < s_{c} \\\\\n",
    " & 0 \\quad \\text{otherwise}\n",
    "\\end{aligned}\n",
    " \\right.$\n"
   ]
  },
  {
   "cell_type": "code",
   "execution_count": null,
   "metadata": {},
   "outputs": [],
   "source": []
  },
  {
   "cell_type": "markdown",
   "metadata": {},
   "source": [
    "## Task 4: Compute the forces\n",
    "We need to compute the force at each node $X_i$ bu using the discrete peridynamic equation of motion $\\rho(X_i)a(t,X_i)=\\sum\\limits_{X_j\\in B_\\delta(X_i)} f\\left(t,x(t,X_j)-x(t,X_i), X_j-X_i\\right)d\\mathbf{V}_j + b(t,X_i)$. Write a function which computes the forces for all nodes."
   ]
  },
  {
   "cell_type": "code",
   "execution_count": null,
   "metadata": {},
   "outputs": [],
   "source": []
  },
  {
   "cell_type": "markdown",
   "metadata": {},
   "source": [
    "## Task 5: Update the velocities"
   ]
  },
  {
   "cell_type": "code",
   "execution_count": null,
   "metadata": {},
   "outputs": [],
   "source": []
  },
  {
   "cell_type": "markdown",
   "metadata": {},
   "source": [
    "## Task 6: Output\n",
    "\n",
    "Write a function which writes a comma separated file (csv) containing for each time step with the positions, the force, and the accelaration of each node per line."
   ]
  },
  {
   "cell_type": "code",
   "execution_count": null,
   "metadata": {},
   "outputs": [],
   "source": []
  },
  {
   "cell_type": "markdown",
   "metadata": {},
   "source": [
    "## Task 7: Simulation control\n",
    "\n",
    " Write the simulation control to compute the acceleration, velocity, and force of all nodes per time step. At the end of each time step write the CSV file."
   ]
  },
  {
   "cell_type": "code",
   "execution_count": null,
   "metadata": {},
   "outputs": [],
   "source": []
  },
  {
   "cell_type": "markdown",
   "metadata": {},
   "source": [
    "## Task 8: Parallel implementation\n",
    "1. Replace as many as posiible of the for loops with hpx::parallel for lops\n",
    "1. Use hpx::async and hpx::future to asynchronously do the computation and the output\n",
    "\n",
    "Note that you should implement the single threaded version of the code, vlaidate your results, and once you know that your code is working, you should start to make it parallel."
   ]
  }
 ],
 "metadata": {
  "kernelspec": {
   "display_name": "C++14",
   "language": "C++",
   "name": "cling-cpp14"
  },
  "language_info": {
   "codemirror_mode": "c++",
   "file_extension": ".c++",
   "mimetype": "text/x-c++src",
   "name": "c++"
  }
 },
 "nbformat": 4,
 "nbformat_minor": 2
}
